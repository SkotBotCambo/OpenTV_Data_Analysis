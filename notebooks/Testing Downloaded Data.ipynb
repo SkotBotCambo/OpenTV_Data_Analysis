{
 "cells": [
  {
   "cell_type": "code",
   "execution_count": 28,
   "metadata": {},
   "outputs": [],
   "source": [
    "import pandas as pd\n",
    "import numpy as np\n",
    "from tqdm.notebook import tqdm\n",
    "import re"
   ]
  },
  {
   "cell_type": "markdown",
   "metadata": {},
   "source": [
    "# Make a Rudimentary Code list"
   ]
  },
  {
   "cell_type": "code",
   "execution_count": 5,
   "metadata": {},
   "outputs": [
    {
     "name": "stdout",
     "output_type": "stream",
     "text": [
      "total 7608\r\n",
      "-rwxr--r--@ 1 scottcambo  staff  3530539 May  6  2019 \u001b[31mFacebook_Page_(04_03_2019)-(05_01_2019).xls\u001b[m\u001b[m*\r\n",
      "-rwxr--r--@ 1 scottcambo  staff   280204 May  6  2019 \u001b[31mFacebook_Post_(04_03_2019)-(05_01_2019).xls\u001b[m\u001b[m*\r\n",
      "-rwxr--r--@ 1 scottcambo  staff     6800 Jun 23  2019 \u001b[31mTwitter_(04-03-2019)-(05-01-2019).csv\u001b[m\u001b[m*\r\n",
      "-rwxr--r--@ 1 scottcambo  staff     1917 May  6  2019 \u001b[31mVimeo_Date_(04_03_2019)-(05_01_2019).csv\u001b[m\u001b[m*\r\n",
      "-rwxr--r--@ 1 scottcambo  staff      333 May  6  2019 \u001b[31mVimeo_Device_(04_03_2019)-(05_01_2019).csv\u001b[m\u001b[m*\r\n",
      "-rwxr--r--@ 1 scottcambo  staff     8589 May  6  2019 \u001b[31mVimeo_Region_(04_03_2019)-(05_01_2019).csv\u001b[m\u001b[m*\r\n",
      "-rwxr--r--@ 1 scottcambo  staff    15328 May  6  2019 \u001b[31mVimeo_Source_(04_03_2019)-(05_01_2019).csv\u001b[m\u001b[m*\r\n",
      "-rwxr--r--@ 1 scottcambo  staff    34353 May  6  2019 \u001b[31mVimeo_Video_(04_03_2019)-(05_01_2019).csv\u001b[m\u001b[m*\r\n"
     ]
    }
   ],
   "source": [
    "ls -l '../data/Spreadsheets_2019/Spreadsheets (04_03_2019)-(05_01_2019)'"
   ]
  },
  {
   "cell_type": "code",
   "execution_count": 6,
   "metadata": {},
   "outputs": [],
   "source": [
    "df = pd.read_csv('../data/Spreadsheets_2019/Spreadsheets (04_03_2019)-(05_01_2019)/Vimeo_Video_(04_03_2019)-(05_01_2019).csv')"
   ]
  },
  {
   "cell_type": "code",
   "execution_count": 35,
   "metadata": {},
   "outputs": [
    {
     "data": {
      "text/html": [
       "<div>\n",
       "<style scoped>\n",
       "    .dataframe tbody tr th:only-of-type {\n",
       "        vertical-align: middle;\n",
       "    }\n",
       "\n",
       "    .dataframe tbody tr th {\n",
       "        vertical-align: top;\n",
       "    }\n",
       "\n",
       "    .dataframe thead th {\n",
       "        text-align: right;\n",
       "    }\n",
       "</style>\n",
       "<table border=\"1\" class=\"dataframe\">\n",
       "  <thead>\n",
       "    <tr style=\"text-align: right;\">\n",
       "      <th></th>\n",
       "      <th>name</th>\n",
       "      <th>Formal Name</th>\n",
       "    </tr>\n",
       "    <tr>\n",
       "      <th>Project Code</th>\n",
       "      <th></th>\n",
       "      <th></th>\n",
       "    </tr>\n",
       "  </thead>\n",
       "  <tbody>\n",
       "    <tr>\n",
       "      <th>2QIK</th>\n",
       "      <td>Two Queens in a Kitchen: Southern Style</td>\n",
       "      <td>Two Queens in a Kitchen</td>\n",
       "    </tr>\n",
       "    <tr>\n",
       "      <th>ANO</th>\n",
       "      <td>Kiam Marcelo Junio -- The Artists of Nupita Obama</td>\n",
       "      <td>Kiam Marcelo Junio</td>\n",
       "    </tr>\n",
       "    <tr>\n",
       "      <th>AS</th>\n",
       "      <td>Afternoon Snatch -- Episode 1</td>\n",
       "      <td>Afternoon Snatch</td>\n",
       "    </tr>\n",
       "    <tr>\n",
       "      <th>AV</th>\n",
       "      <td>Open TV Presents - ambivert by ester alegria</td>\n",
       "      <td>Open TV Presents</td>\n",
       "    </tr>\n",
       "    <tr>\n",
       "      <th>B</th>\n",
       "      <td>BRUJOS -- Episode 2 -- Taurus</td>\n",
       "      <td>BRUJOS</td>\n",
       "    </tr>\n",
       "  </tbody>\n",
       "</table>\n",
       "</div>"
      ],
      "text/plain": [
       "                                                           name  \\\n",
       "Project Code                                                      \n",
       "2QIK                    Two Queens in a Kitchen: Southern Style   \n",
       "ANO           Kiam Marcelo Junio -- The Artists of Nupita Obama   \n",
       "AS                                Afternoon Snatch -- Episode 1   \n",
       "AV                 Open TV Presents - ambivert by ester alegria   \n",
       "B                                 BRUJOS -- Episode 2 -- Taurus   \n",
       "\n",
       "                          Formal Name  \n",
       "Project Code                           \n",
       "2QIK          Two Queens in a Kitchen  \n",
       "ANO                Kiam Marcelo Junio  \n",
       "AS                   Afternoon Snatch  \n",
       "AV                   Open TV Presents  \n",
       "B                              BRUJOS  "
      ]
     },
     "execution_count": 35,
     "metadata": {},
     "output_type": "execute_result"
    }
   ],
   "source": [
    "project_code_df = df.groupby('Project Code').agg({'name': lambda proj_series: proj_series.iloc[0]})\n",
    "\n",
    "regex_str = ' ?[\\:\\-+|]'\n",
    "project_code_df['Formal Name'] = [re.split(regex_str, name)[0] for name in project_code_df['name']]\n",
    "project_code_df.head()"
   ]
  },
  {
   "cell_type": "code",
   "execution_count": 36,
   "metadata": {},
   "outputs": [],
   "source": [
    "project_code_df.to_csv('project_codes.csv')"
   ]
  },
  {
   "cell_type": "markdown",
   "metadata": {},
   "source": [
    "# Vimeo"
   ]
  },
  {
   "cell_type": "code",
   "execution_count": null,
   "metadata": {},
   "outputs": [],
   "source": []
  }
 ],
 "metadata": {
  "kernelspec": {
   "display_name": "Python 3",
   "language": "python",
   "name": "python3"
  },
  "language_info": {
   "codemirror_mode": {
    "name": "ipython",
    "version": 3
   },
   "file_extension": ".py",
   "mimetype": "text/x-python",
   "name": "python",
   "nbconvert_exporter": "python",
   "pygments_lexer": "ipython3",
   "version": "3.7.3"
  }
 },
 "nbformat": 4,
 "nbformat_minor": 4
}
