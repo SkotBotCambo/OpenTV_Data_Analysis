{
 "cells": [
  {
   "cell_type": "markdown",
   "metadata": {},
   "source": [
    "# Test Run of using the [Facebook Graph API](https://developers.facebook.com/docs/graph-api/using-graph-api)"
   ]
  },
  {
   "cell_type": "markdown",
   "metadata": {},
   "source": [
    "# Main Resources\n",
    "* [Follow this post to get the ***Page Access Token*** that you will need to access the OTV page insights](https://medium.com/@DrGabrielHarris/python-how-making-facebook-api-calls-using-facebook-sdk-ea18bec973c8)\n",
    "* [Follow this post for getting FB Data and Insights with `facebook-sdk`](https://medium.com/@DrGabrielHarris/python-how-getting-facebook-data-and-insights-using-facebook-sdk-9de14d3c12fb)\n",
    "\n",
    "## Other resources\n",
    "* [How to use FB Graph API and extract data in Python](https://towardsdatascience.com/how-to-use-facebook-graph-api-and-extract-data-using-python-1839e19d6999)\n",
    "* [Installation](https://facebook-sdk.readthedocs.io/en/latest/install.html)\n",
    "* [*Alternative Approach*: Use Selenium to extract data instead of the API](https://mnurdin.com/how-to-extract-data-using-selenium-without-using-facebook-graph-api/)"
   ]
  },
  {
   "cell_type": "markdown",
   "metadata": {},
   "source": [
    "#### Note: Playing around with permissions in the [Graph API Explorer](https://developers.facebook.com/tools/explorer/) is really helpful for debugging issues"
   ]
  },
  {
   "cell_type": "code",
   "execution_count": 119,
   "metadata": {},
   "outputs": [],
   "source": [
    "import facebook\n",
    "import requests\n",
    "import datetime\n",
    "import pandas as pd\n",
    "import numpy as np\n",
    "from tqdm.notebook import tqdm"
   ]
  },
  {
   "cell_type": "code",
   "execution_count": 4,
   "metadata": {
    "jupyter": {
     "source_hidden": true
    }
   },
   "outputs": [],
   "source": [
    "access_token = 'EAAHeMGVreUgBAGfysBwbJYwBkpeHtyK8phZBhpguqoWRGtD0ZBwkIcuKhYTFoMo59Ofir3MnlE69j9mJC2YrSnVekhsGePG5McJ0resg8INF4qj13Kyg8VM26okcZBMVNWNs6bvxKDjES8MvWbNKdTNM4XKCkEacFZCjO0OJcPreCsDTEFl6ZCjPDyInLoEAZD'\n",
    "app_id = '525774418049352'\n",
    "secret = '3a3db6a0704198fcf03a28e559f1edd5'"
   ]
  },
  {
   "cell_type": "code",
   "execution_count": 5,
   "metadata": {},
   "outputs": [],
   "source": [
    "graph = facebook.GraphAPI(access_token=access_token)"
   ]
  },
  {
   "cell_type": "markdown",
   "metadata": {},
   "source": [
    "# [Getting the long-lived token](https://medium.com/@DrGabrielHarris/python-how-making-facebook-api-calls-using-facebook-sdk-ea18bec973c8)"
   ]
  },
  {
   "cell_type": "code",
   "execution_count": 6,
   "metadata": {},
   "outputs": [],
   "source": [
    "access_token_url = \"https://graph.facebook.com/oauth/access_token?grant_type=fb_exchange_token&client_id={}&client_secret={}&fb_exchange_token={}\".format(app_id, secret, access_token)\n",
    "\n",
    "def get_long_lived_token(short_token):\n",
    "    r = requests.get(access_token_url)\n",
    "    access_token_info = r.json()\n",
    "    try:\n",
    "        user_long_token = access_token_info['access_token']\n",
    "        return user_long_token\n",
    "    except KeyError as ke:\n",
    "        print(\"key error, returning request\")\n",
    "        return access_token_info"
   ]
  },
  {
   "cell_type": "code",
   "execution_count": 7,
   "metadata": {},
   "outputs": [
    {
     "data": {
      "text/plain": [
       "'EAAHeMGVreUgBAHAQEZCqcgy48jH1JabFvKeR9jmNjzfHbHZA5W9b7cssRwzjZBpZB4LsKDJlazaKv0WyjYDyGbM5skcvOcApZBPMT30ixZALdCeDZB0ZAZC1ApCrpkj51gesZCW8vLcmZA5HKmemDFzjAfXNZAqkBnpESZC4ZD'"
      ]
     },
     "execution_count": 7,
     "metadata": {},
     "output_type": "execute_result"
    }
   ],
   "source": [
    "user_long_token = get_long_lived_token(access_token)\n",
    "user_long_token"
   ]
  },
  {
   "cell_type": "markdown",
   "metadata": {},
   "source": [
    "# Permanent User/Page Token"
   ]
  },
  {
   "cell_type": "code",
   "execution_count": 114,
   "metadata": {},
   "outputs": [],
   "source": [
    "def get_page_id_and_token(user_long_token):\n",
    "    graph = facebook.GraphAPI(access_token=user_long_token)\n",
    "\n",
    "    pages_data = graph.get_object('/me/accounts')\n",
    "    print(pages_data['data'][0]['name'])\n",
    "    page_id = pages_data['data'][0]['id']\n",
    "    page_access_token=pages_data['data'][0]['access_token']\n",
    "    return page_id, page_access_token"
   ]
  },
  {
   "cell_type": "code",
   "execution_count": 115,
   "metadata": {},
   "outputs": [
    {
     "name": "stdout",
     "output_type": "stream",
     "text": [
      "OTV - Open Television\n",
      "page_id: 357045034501999\n",
      "page_access_token: EAAHeMGVreUgBACc4tvZCeApGioJzfTRpTaidZBCBJRNRajXqBWaKzoqTRJzUOxwuBHIOK41CEvCZAWLzQfojWknYCiKlHUTsD8PvISsZAJ6V7Fm8F4VXMDS2jmbOsEyFa9hC2ZCwVKb5SRLWClXHD1N4DZCdHmKFEvFxxZBvU1ZBqgZDZD\n"
     ]
    }
   ],
   "source": [
    "page_id, page_access_token = get_page_id_and_token(user_long_token)\n",
    "print(\"page_id: %s\" % page_id)\n",
    "print(\"page_access_token: %s\"% page_access_token)"
   ]
  },
  {
   "cell_type": "markdown",
   "metadata": {},
   "source": [
    "# Getting Page Impressions"
   ]
  },
  {
   "cell_type": "code",
   "execution_count": 10,
   "metadata": {},
   "outputs": [],
   "source": [
    "graph = facebook.GraphAPI(access_token=page_access_token)\n"
   ]
  },
  {
   "cell_type": "code",
   "execution_count": 14,
   "metadata": {},
   "outputs": [],
   "source": [
    "import datetime"
   ]
  },
  {
   "cell_type": "code",
   "execution_count": 65,
   "metadata": {},
   "outputs": [
    {
     "name": "stdout",
     "output_type": "stream",
     "text": [
      "{'data': [{'name': 'page_impressions', 'period': 'week', 'values': [{'value': 767, 'end_time': '2020-02-03T08:00:00+0000'}], 'title': 'Weekly Total Impressions', 'description': \"Weekly: The number of times any content from your Page or about your Page entered a person's screen. This includes posts, stories, check-ins, ads, social information from people who interact with your Page and more. (Total Count)\", 'id': '357045034501999/insights/page_impressions/week'}], 'paging': {'previous': 'https://graph.facebook.com/v6.0/357045034501999/insights?access_token=EAAHeMGVreUgBAIyx1cTaEr9gZBZBxtMvP7WPfk7SJkooX1vKBFjaxi6i2ZBfP1FKpSDJHqAKj6xAurA7GQO0TNqAZA5p6DHKAZC7olFmVeMfYAwR35fHYf78ZAC0W0PXmaLXOJ8k6WvfVnGtGE7nRju0EY6KHTZBKnXvjnbppgzZAgZDZD&metric=page_impressions&period=week&show_description_from_api_doc=True&date_preset=yesterday&since=1580544000&until=1580630400', 'next': 'https://graph.facebook.com/v6.0/357045034501999/insights?access_token=EAAHeMGVreUgBAIyx1cTaEr9gZBZBxtMvP7WPfk7SJkooX1vKBFjaxi6i2ZBfP1FKpSDJHqAKj6xAurA7GQO0TNqAZA5p6DHKAZC7olFmVeMfYAwR35fHYf78ZAC0W0PXmaLXOJ8k6WvfVnGtGE7nRju0EY6KHTZBKnXvjnbppgzZAgZDZD&metric=page_impressions&period=week&show_description_from_api_doc=True&date_preset=yesterday&since=1580716800&until=1580803200'}}\n"
     ]
    }
   ],
   "source": [
    "page_impressions = graph.get_connections(id=page_id,\n",
    "                                         connection_name='insights',\n",
    "                                         metric='page_impressions',\n",
    "                                         date_preset='yesterday',\n",
    "                                         period='week',\n",
    "                                         show_description_from_api_doc=True)\n",
    "print(page_impressions)"
   ]
  },
  {
   "cell_type": "code",
   "execution_count": 68,
   "metadata": {},
   "outputs": [
    {
     "data": {
      "text/plain": [
       "{'name': 'page_impressions',\n",
       " 'period': 'week',\n",
       " 'values': [{'value': 767, 'end_time': '2020-02-03T08:00:00+0000'}],\n",
       " 'title': 'Weekly Total Impressions',\n",
       " 'description': \"Weekly: The number of times any content from your Page or about your Page entered a person's screen. This includes posts, stories, check-ins, ads, social information from people who interact with your Page and more. (Total Count)\",\n",
       " 'id': '357045034501999/insights/page_impressions/week'}"
      ]
     },
     "execution_count": 68,
     "metadata": {},
     "output_type": "execute_result"
    }
   ],
   "source": [
    "page_impressions['data'][0]"
   ]
  },
  {
   "cell_type": "markdown",
   "metadata": {},
   "source": [
    "# Write some functions for gathering data to help AJ's research questions using impressions"
   ]
  },
  {
   "cell_type": "code",
   "execution_count": 13,
   "metadata": {},
   "outputs": [],
   "source": [
    "graph = facebook.GraphAPI(access_token=page_access_token)"
   ]
  },
  {
   "cell_type": "code",
   "execution_count": 102,
   "metadata": {},
   "outputs": [],
   "source": [
    "posts_2019 = graph.get_all_connections(id=page_id,\n",
    "                                       connection_name='posts',\n",
    "                                       #fields='created_time, object_id',\n",
    "                                       since=datetime.datetime(2019, 1, 1, 0, 0, 0))"
   ]
  },
  {
   "cell_type": "code",
   "execution_count": 123,
   "metadata": {},
   "outputs": [
    {
     "data": {
      "text/plain": [
       "'357045034501999_1233428656863628'"
      ]
     },
     "execution_count": 123,
     "metadata": {},
     "output_type": "execute_result"
    }
   ],
   "source": [
    "post_id"
   ]
  },
  {
   "cell_type": "code",
   "execution_count": 128,
   "metadata": {},
   "outputs": [],
   "source": [
    "post_id = next(posts_2019)"
   ]
  },
  {
   "cell_type": "code",
   "execution_count": 130,
   "metadata": {},
   "outputs": [],
   "source": [
    "post_id = post_id['id']"
   ]
  },
  {
   "cell_type": "code",
   "execution_count": 135,
   "metadata": {},
   "outputs": [],
   "source": [
    "post_impressions = graph.get_connections(id=post_id,\n",
    "                                         connection_name='insights',\n",
    "                                         metric='post_impressions',\n",
    "                                         period='lifetime',\n",
    "                                         show_description_from_api_doc=True)"
   ]
  },
  {
   "cell_type": "code",
   "execution_count": 138,
   "metadata": {},
   "outputs": [
    {
     "data": {
      "text/plain": [
       "70"
      ]
     },
     "execution_count": 138,
     "metadata": {},
     "output_type": "execute_result"
    }
   ],
   "source": [
    "post_impressions['data'][0]['values'][0]['value']"
   ]
  },
  {
   "cell_type": "code",
   "execution_count": 139,
   "metadata": {},
   "outputs": [],
   "source": [
    "def get_impressions(post_id):\n",
    "    post_impressions = graph.get_connections(id=post_id,\n",
    "                                         connection_name='insights',\n",
    "                                         metric='post_impressions',\n",
    "                                         period='lifetime',\n",
    "                                         show_description_from_api_doc=True)\n",
    "    return post_impressions['data'][0]['values'][0]['value']"
   ]
  },
  {
   "cell_type": "code",
   "execution_count": 140,
   "metadata": {},
   "outputs": [
    {
     "data": {
      "application/vnd.jupyter.widget-view+json": {
       "model_id": "0c04568634e2460f8d8f8402063f022c",
       "version_major": 2,
       "version_minor": 0
      },
      "text/plain": [
       "HBox(children=(FloatProgress(value=1.0, bar_style='info', max=1.0), HTML(value='')))"
      ]
     },
     "metadata": {},
     "output_type": "display_data"
    },
    {
     "name": "stdout",
     "output_type": "stream",
     "text": [
      "\n"
     ]
    }
   ],
   "source": [
    "df_rows = []\n",
    "\n",
    "posts_2019 = graph.get_all_connections(id=page_id,\n",
    "                                       connection_name='posts',\n",
    "                                       #fields='created_time, object_id',\n",
    "                                       since=datetime.datetime(2019, 1, 1, 0, 0, 0))\n",
    "\n",
    "for post in tqdm(posts_2019):\n",
    "    df_row = {'post_id':post['id'], 'created_time':post['created_time']}\n",
    "    #shares, likes = get_shares_likes_from_post_id(post['id'])\n",
    "    #df_row['shares'] = shares\n",
    "    #df_row['likes'] = likes\n",
    "    df_row['impressions'] = post_impressions['data'][0]['values'][0]['value']\n",
    "    df_rows.append(df_row)\n",
    "    \n",
    "    "
   ]
  },
  {
   "cell_type": "code",
   "execution_count": 141,
   "metadata": {},
   "outputs": [],
   "source": [
    "df = pd.DataFrame(df_rows)"
   ]
  },
  {
   "cell_type": "code",
   "execution_count": 144,
   "metadata": {},
   "outputs": [
    {
     "data": {
      "text/plain": [
       "0.0"
      ]
     },
     "execution_count": 144,
     "metadata": {},
     "output_type": "execute_result"
    }
   ],
   "source": []
  },
  {
   "cell_type": "code",
   "execution_count": 108,
   "metadata": {},
   "outputs": [
    {
     "data": {
      "text/plain": [
       "0"
      ]
     },
     "execution_count": 108,
     "metadata": {},
     "output_type": "execute_result"
    }
   ],
   "source": []
  },
  {
   "cell_type": "code",
   "execution_count": null,
   "metadata": {},
   "outputs": [],
   "source": []
  },
  {
   "cell_type": "code",
   "execution_count": null,
   "metadata": {},
   "outputs": [],
   "source": []
  },
  {
   "cell_type": "code",
   "execution_count": 23,
   "metadata": {},
   "outputs": [],
   "source": [
    "post = next(posts_2019)"
   ]
  },
  {
   "cell_type": "code",
   "execution_count": 76,
   "metadata": {},
   "outputs": [
    {
     "data": {
      "text/plain": [
       "'2020-02-10T18:06:56+0000'"
      ]
     },
     "execution_count": 76,
     "metadata": {},
     "output_type": "execute_result"
    }
   ],
   "source": [
    "post['created_time']"
   ]
  },
  {
   "cell_type": "code",
   "execution_count": 28,
   "metadata": {},
   "outputs": [
    {
     "data": {
      "text/plain": [
       "dict_keys(['created_time', 'message', 'story', 'id'])"
      ]
     },
     "execution_count": 28,
     "metadata": {},
     "output_type": "execute_result"
    }
   ],
   "source": [
    "post.keys()"
   ]
  },
  {
   "cell_type": "code",
   "execution_count": 31,
   "metadata": {},
   "outputs": [],
   "source": [
    "post_id = post['id']"
   ]
  },
  {
   "cell_type": "code",
   "execution_count": 45,
   "metadata": {},
   "outputs": [],
   "source": [
    "post_impressions = graph.get_connections(id=post_id,\n",
    "                                         connection_name='insights',\n",
    "                                         fields=\"\"\"message,\n",
    "                                      comments.summary(total_count), \n",
    "                                      reactions.summary(total_count), \n",
    "                                      shares\"\"\",\n",
    "                                         metric='page_impressions')"
   ]
  },
  {
   "cell_type": "code",
   "execution_count": 46,
   "metadata": {},
   "outputs": [
    {
     "data": {
      "text/plain": [
       "{'data': [],\n",
       " 'paging': {'previous': 'https://graph.facebook.com/v6.0/357045034501999_1233428656863628/insights?access_token=EAAHeMGVreUgBAAKtI9fd6fQeug5jjzgKiGRo3tx81BNIZBZB2GJczbUNmHyRZBlxhGEGQx4ItkC4nPsfc2S2xmC0383F4csAxXVZBU6cfz9xhXpR3aQbhwNg9hZAqiBlxa9fjDGO2rDUnndzAdr2nErfNGp4wWnRTDEfYPZAoEnAZDZD&fields=message%2C%0A++++++++++++++++++++++++++++++++++++++comments.summary%28total_count%29%2C+%0A++++++++++++++++++++++++++++++++++++++reactions.summary%28total_count%29%2C+%0A++++++++++++++++++++++++++++++++++++++shares&metric=page_impressions&since=1580976000&until=1581148800',\n",
       "  'next': 'https://graph.facebook.com/v6.0/357045034501999_1233428656863628/insights?access_token=EAAHeMGVreUgBAAKtI9fd6fQeug5jjzgKiGRo3tx81BNIZBZB2GJczbUNmHyRZBlxhGEGQx4ItkC4nPsfc2S2xmC0383F4csAxXVZBU6cfz9xhXpR3aQbhwNg9hZAqiBlxa9fjDGO2rDUnndzAdr2nErfNGp4wWnRTDEfYPZAoEnAZDZD&fields=message%2C%0A++++++++++++++++++++++++++++++++++++++comments.summary%28total_count%29%2C+%0A++++++++++++++++++++++++++++++++++++++reactions.summary%28total_count%29%2C+%0A++++++++++++++++++++++++++++++++++++++shares&metric=page_impressions&since=1581321600&until=1581494400'}}"
      ]
     },
     "execution_count": 46,
     "metadata": {},
     "output_type": "execute_result"
    }
   ],
   "source": [
    "post_impressions"
   ]
  },
  {
   "cell_type": "code",
   "execution_count": 35,
   "metadata": {},
   "outputs": [],
   "source": [
    "post_data = graph.get_object(id=post_id)"
   ]
  },
  {
   "cell_type": "code",
   "execution_count": 37,
   "metadata": {},
   "outputs": [
    {
     "data": {
      "text/plain": [
       "dict_keys(['created_time', 'message', 'story', 'id'])"
      ]
     },
     "execution_count": 37,
     "metadata": {},
     "output_type": "execute_result"
    }
   ],
   "source": [
    "post_data.keys()"
   ]
  },
  {
   "cell_type": "code",
   "execution_count": 83,
   "metadata": {},
   "outputs": [],
   "source": [
    "post_1_data = graph.get_object(id=post_id, \n",
    "                               fields=\"\"\"message,\n",
    "                                      comments.summary(total_count), \n",
    "                                      reactions.summary(total_count), \n",
    "                                      shares\"\"\")"
   ]
  },
  {
   "cell_type": "code",
   "execution_count": 94,
   "metadata": {},
   "outputs": [
    {
     "data": {
      "text/plain": [
       "'QVFIUnEwTm9Db2s0Y3k4dzdBUnZAKV29wZAWp4dktYOFljVm5QMGNSeW4zbjhBNmY0SzR3M2psUFJycG5tNEw3dXBFcEkZD'"
      ]
     },
     "execution_count": 94,
     "metadata": {},
     "output_type": "execute_result"
    }
   ],
   "source": [
    "post_1_data['reactions']['paging']['cursors']['after']"
   ]
  },
  {
   "cell_type": "code",
   "execution_count": 95,
   "metadata": {},
   "outputs": [
    {
     "ename": "GraphAPIError",
     "evalue": "(#803) Some of the aliases you requested do not exist: QVFIUnEwTm9Db2s0Y3k4dzdBUnZAKV29wZAWp4dktYOFljVm5QMGNSeW4zbjhBNmY0SzR3M2psUFJycG5tNEw3dXBFcEkZD",
     "output_type": "error",
     "traceback": [
      "\u001b[0;31m---------------------------------------------------------------------------\u001b[0m",
      "\u001b[0;31mGraphAPIError\u001b[0m                             Traceback (most recent call last)",
      "\u001b[0;32m<ipython-input-95-febc92047f5b>\u001b[0m in \u001b[0;36m<module>\u001b[0;34m\u001b[0m\n\u001b[0;32m----> 1\u001b[0;31m \u001b[0mreaction_obj\u001b[0m \u001b[0;34m=\u001b[0m \u001b[0mgraph\u001b[0m\u001b[0;34m.\u001b[0m\u001b[0mget_object\u001b[0m\u001b[0;34m(\u001b[0m\u001b[0mid\u001b[0m\u001b[0;34m=\u001b[0m\u001b[0mpost_1_data\u001b[0m\u001b[0;34m[\u001b[0m\u001b[0;34m'reactions'\u001b[0m\u001b[0;34m]\u001b[0m\u001b[0;34m[\u001b[0m\u001b[0;34m'paging'\u001b[0m\u001b[0;34m]\u001b[0m\u001b[0;34m[\u001b[0m\u001b[0;34m'cursors'\u001b[0m\u001b[0;34m]\u001b[0m\u001b[0;34m[\u001b[0m\u001b[0;34m'after'\u001b[0m\u001b[0;34m]\u001b[0m\u001b[0;34m)\u001b[0m\u001b[0;34m\u001b[0m\u001b[0;34m\u001b[0m\u001b[0m\n\u001b[0m",
      "\u001b[0;32m~/.virtualenvs/OpenTV_Data_Analysis-Tuixmpia/lib/python3.7/site-packages/facebook/__init__.py\u001b[0m in \u001b[0;36mget_object\u001b[0;34m(self, id, **args)\u001b[0m\n\u001b[1;32m    124\u001b[0m     \u001b[0;32mdef\u001b[0m \u001b[0mget_object\u001b[0m\u001b[0;34m(\u001b[0m\u001b[0mself\u001b[0m\u001b[0;34m,\u001b[0m \u001b[0mid\u001b[0m\u001b[0;34m,\u001b[0m \u001b[0;34m**\u001b[0m\u001b[0margs\u001b[0m\u001b[0;34m)\u001b[0m\u001b[0;34m:\u001b[0m\u001b[0;34m\u001b[0m\u001b[0;34m\u001b[0m\u001b[0m\n\u001b[1;32m    125\u001b[0m         \u001b[0;34m\"\"\"Fetches the given object from the graph.\"\"\"\u001b[0m\u001b[0;34m\u001b[0m\u001b[0;34m\u001b[0m\u001b[0m\n\u001b[0;32m--> 126\u001b[0;31m         \u001b[0;32mreturn\u001b[0m \u001b[0mself\u001b[0m\u001b[0;34m.\u001b[0m\u001b[0mrequest\u001b[0m\u001b[0;34m(\u001b[0m\u001b[0;34m\"{0}/{1}\"\u001b[0m\u001b[0;34m.\u001b[0m\u001b[0mformat\u001b[0m\u001b[0;34m(\u001b[0m\u001b[0mself\u001b[0m\u001b[0;34m.\u001b[0m\u001b[0mversion\u001b[0m\u001b[0;34m,\u001b[0m \u001b[0mid\u001b[0m\u001b[0;34m)\u001b[0m\u001b[0;34m,\u001b[0m \u001b[0margs\u001b[0m\u001b[0;34m)\u001b[0m\u001b[0;34m\u001b[0m\u001b[0;34m\u001b[0m\u001b[0m\n\u001b[0m\u001b[1;32m    127\u001b[0m \u001b[0;34m\u001b[0m\u001b[0m\n\u001b[1;32m    128\u001b[0m     \u001b[0;32mdef\u001b[0m \u001b[0mget_objects\u001b[0m\u001b[0;34m(\u001b[0m\u001b[0mself\u001b[0m\u001b[0;34m,\u001b[0m \u001b[0mids\u001b[0m\u001b[0;34m,\u001b[0m \u001b[0;34m**\u001b[0m\u001b[0margs\u001b[0m\u001b[0;34m)\u001b[0m\u001b[0;34m:\u001b[0m\u001b[0;34m\u001b[0m\u001b[0;34m\u001b[0m\u001b[0m\n",
      "\u001b[0;32m~/.virtualenvs/OpenTV_Data_Analysis-Tuixmpia/lib/python3.7/site-packages/facebook/__init__.py\u001b[0m in \u001b[0;36mrequest\u001b[0;34m(self, path, args, post_args, files, method)\u001b[0m\n\u001b[1;32m    311\u001b[0m \u001b[0;34m\u001b[0m\u001b[0m\n\u001b[1;32m    312\u001b[0m         \u001b[0;32mif\u001b[0m \u001b[0mresult\u001b[0m \u001b[0;32mand\u001b[0m \u001b[0misinstance\u001b[0m\u001b[0;34m(\u001b[0m\u001b[0mresult\u001b[0m\u001b[0;34m,\u001b[0m \u001b[0mdict\u001b[0m\u001b[0;34m)\u001b[0m \u001b[0;32mand\u001b[0m \u001b[0mresult\u001b[0m\u001b[0;34m.\u001b[0m\u001b[0mget\u001b[0m\u001b[0;34m(\u001b[0m\u001b[0;34m\"error\"\u001b[0m\u001b[0;34m)\u001b[0m\u001b[0;34m:\u001b[0m\u001b[0;34m\u001b[0m\u001b[0;34m\u001b[0m\u001b[0m\n\u001b[0;32m--> 313\u001b[0;31m             \u001b[0;32mraise\u001b[0m \u001b[0mGraphAPIError\u001b[0m\u001b[0;34m(\u001b[0m\u001b[0mresult\u001b[0m\u001b[0;34m)\u001b[0m\u001b[0;34m\u001b[0m\u001b[0;34m\u001b[0m\u001b[0m\n\u001b[0m\u001b[1;32m    314\u001b[0m         \u001b[0;32mreturn\u001b[0m \u001b[0mresult\u001b[0m\u001b[0;34m\u001b[0m\u001b[0;34m\u001b[0m\u001b[0m\n\u001b[1;32m    315\u001b[0m \u001b[0;34m\u001b[0m\u001b[0m\n",
      "\u001b[0;31mGraphAPIError\u001b[0m: (#803) Some of the aliases you requested do not exist: QVFIUnEwTm9Db2s0Y3k4dzdBUnZAKV29wZAWp4dktYOFljVm5QMGNSeW4zbjhBNmY0SzR3M2psUFJycG5tNEw3dXBFcEkZD"
     ]
    }
   ],
   "source": [
    "reaction_obj = graph.get_object(id=post_1_data['reactions']['paging']['cursors']['after'])"
   ]
  },
  {
   "cell_type": "code",
   "execution_count": 51,
   "metadata": {},
   "outputs": [
    {
     "data": {
      "text/plain": [
       "{'data': [],\n",
       " 'paging': {'cursors': {'before': 'QVFIUkpkOGFzTGN3aWxQNTBnQUUzVmNMOWZAjNE5JLXM3UkFsWlEyb0U2QkFwSWZApYlJLbVJUMW9oNjdELU03N0dVTWsZD',\n",
       "   'after': 'QVFIUnEwTm9Db2s0Y3k4dzdBUnZAKV29wZAWp4dktYOFljVm5QMGNSeW4zbjhBNmY0SzR3M2psUFJycG5tNEw3dXBFcEkZD'}},\n",
       " 'summary': {'total_count': 24}}"
      ]
     },
     "execution_count": 51,
     "metadata": {},
     "output_type": "execute_result"
    }
   ],
   "source": [
    "post_1_data['reactions']"
   ]
  },
  {
   "cell_type": "code",
   "execution_count": 64,
   "metadata": {},
   "outputs": [],
   "source": [
    "post_1_activity_insights = graph.get_connections(id=post_id,\n",
    "                                                 connection_name='insights',\n",
    "                                                 metric='post_activity_by_action_type',\n",
    "                                                 period='lifetime',\n",
    "                                                 show_description_from_api_doc=True)"
   ]
  },
  {
   "cell_type": "code",
   "execution_count": 75,
   "metadata": {},
   "outputs": [
    {
     "data": {
      "text/plain": [
       "dict_keys(['name', 'period', 'values', 'title', 'description', 'id'])"
      ]
     },
     "execution_count": 75,
     "metadata": {},
     "output_type": "execute_result"
    }
   ],
   "source": [
    "post_1_activity_insights['data'][0].keys()"
   ]
  },
  {
   "cell_type": "code",
   "execution_count": 66,
   "metadata": {},
   "outputs": [
    {
     "data": {
      "text/plain": [
       "2"
      ]
     },
     "execution_count": 66,
     "metadata": {},
     "output_type": "execute_result"
    }
   ],
   "source": [
    "post_1_activity_insights['data'][0]['values'][0]['value']['share']"
   ]
  },
  {
   "cell_type": "markdown",
   "metadata": {},
   "source": [
    "# shares and likes over time"
   ]
  },
  {
   "cell_type": "code",
   "execution_count": 121,
   "metadata": {},
   "outputs": [],
   "source": [
    "def get_shares_likes_from_post_id(post_id):\n",
    "    post_insights = graph.get_connections(id=post_id,\n",
    "                                                 connection_name='insights',\n",
    "                                                 metric='post_activity_by_action_type',\n",
    "                                                 period='lifetime',\n",
    "                                                 show_description_from_api_doc=True)\n",
    "    try:\n",
    "        shares = post_insights['data'][0]['values'][0]['value']['share']\n",
    "    except IndexError as ie:\n",
    "        shares = 0\n",
    "    except KeyError as ke:\n",
    "        print(post_insights['data'][0]['values'][0]['value'].keys())\n",
    "        raise ke\n",
    "        \n",
    "    try:\n",
    "        likes =  post_insights['data'][0]['values'][0]['value']['like']\n",
    "    except IndexError as ie:\n",
    "        likes = 0\n",
    "    return shares, likes"
   ]
  },
  {
   "cell_type": "code",
   "execution_count": null,
   "metadata": {},
   "outputs": [],
   "source": []
  }
 ],
 "metadata": {
  "kernelspec": {
   "display_name": "Python 3",
   "language": "python",
   "name": "python3"
  },
  "language_info": {
   "codemirror_mode": {
    "name": "ipython",
    "version": 3
   },
   "file_extension": ".py",
   "mimetype": "text/x-python",
   "name": "python",
   "nbconvert_exporter": "python",
   "pygments_lexer": "ipython3",
   "version": "3.7.3"
  }
 },
 "nbformat": 4,
 "nbformat_minor": 4
}
