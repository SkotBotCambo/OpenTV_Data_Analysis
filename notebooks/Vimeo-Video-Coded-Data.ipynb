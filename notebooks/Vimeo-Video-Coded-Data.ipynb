{
 "cells": [
  {
   "cell_type": "code",
   "execution_count": 1,
   "metadata": {},
   "outputs": [],
   "source": [
    "import pandas as pd # pandas\n",
    "import numpy as np\n",
    "import os\n",
    "import re\n",
    "from datetime import datetime, timedelta, date\n",
    "from pathlib import Path\n",
    "import plotly.express as px"
   ]
  },
  {
   "cell_type": "code",
   "execution_count": 7,
   "metadata": {},
   "outputs": [],
   "source": [
    "def get_window_datetimes(file_name):\n",
    "    file_name = file_name.replace(\"-\", \"_\")\n",
    "    re_string = r'\\((.*?)\\)' # regex string for finding window start and end dates\n",
    "\n",
    "    match = re.findall(re_string, file_name)\n",
    "    start = match[0].split(\"_\")\n",
    "    start_month = int(start[0])\n",
    "    start_day = int(start[1])\n",
    "    start_year = int(start[2])\n",
    "    start_dt = datetime(month=start_month, day=start_day, year=start_year)\n",
    "    \n",
    "    end = match[1].split(\"_\")\n",
    "    end_month = int(end[0])\n",
    "    end_day = int(end[1])\n",
    "    end_year = int(end[2])\n",
    "    end_dt = datetime(month=end_month, day=end_day, year=end_year)\n",
    "    return start_dt, end_dt"
   ]
  },
  {
   "cell_type": "code",
   "execution_count": 25,
   "metadata": {},
   "outputs": [
    {
     "name": "stdout",
     "output_type": "stream",
     "text": [
      "Oct 2019\n",
      "Dec 2019\n",
      "Nov 2019\n",
      "Mar 2017\n",
      "Jan 2017\n",
      "Feb 2019\n",
      "Jun 2019\n",
      "Mar 2018\n",
      "Apr 2019\n",
      "Jan 2018\n",
      "Aug 2019\n",
      "Jul 2019\n",
      "Sep 2019\n",
      "May 2019\n",
      "Aug 2017\n",
      "Apr 2017\n",
      "Nov 2018\n",
      "Feb 2017\n",
      "Jun 2017\n",
      "May 2017\n",
      "Dec 2018\n",
      "Sep 2017\n",
      "Jul 2017\n",
      "Oct 2018\n",
      "May 2018\n",
      "Sep 2018\n",
      "Dec 2017\n",
      "Jul 2018\n",
      "Oct 2017\n",
      "Aug 2018\n",
      "Jan 2019\n",
      "Apr 2018\n",
      "Nov 2017\n",
      "Mar 2019\n",
      "Jun 2018\n",
      "Feb 2018\n"
     ]
    }
   ],
   "source": [
    "data_dir = Path('../data/OTV-Vimeo-Video-Coded/').glob('*.xlsx')\n",
    "\n",
    "video_dfs = []\n",
    "for filepath in data_dir:\n",
    "    df = pd.read_excel(str(filepath))\n",
    "    start_dt, end_dt = get_window_datetimes(filepath.stem)\n",
    "    df['start_dt'] = start_dt\n",
    "    df['end_dt'] = end_dt\n",
    "    df['month'] = start_dt.month\n",
    "    df['year'] = start_dt.year\n",
    "    video_dfs.append(df)\n",
    "    print(\"{:%b %Y}\".format(start_dt))\n",
    "    \n",
    "video_df = pd.concat(video_dfs)"
   ]
  },
  {
   "cell_type": "markdown",
   "metadata": {},
   "source": [
    "# All Months covered for all years"
   ]
  },
  {
   "cell_type": "code",
   "execution_count": 30,
   "metadata": {},
   "outputs": [
    {
     "name": "stdout",
     "output_type": "stream",
     "text": [
      "2017: 12\n",
      "2018: 12\n",
      "2019: 12\n"
     ]
    }
   ],
   "source": [
    "years_df = video_df.groupby('year')\n",
    "\n",
    "for year, df in years_df:\n",
    "    print(\"%s: %s\" % (year, len(df['month'].unique())))"
   ]
  },
  {
   "cell_type": "markdown",
   "metadata": {},
   "source": [
    "# Projects"
   ]
  },
  {
   "cell_type": "code",
   "execution_count": 36,
   "metadata": {},
   "outputs": [
    {
     "name": "stdout",
     "output_type": "stream",
     "text": [
      "Scenes from the urban catwalk\n",
      "Scenes from the urban catwalk\n",
      "Scenes from the urban catwalk\n",
      "Scenes from the urban catwalk\n"
     ]
    }
   ],
   "source": [
    "for name in video_df[video_df['Project ID'] == 'UC']['name']:\n",
    "    print(name)"
   ]
  },
  {
   "cell_type": "code",
   "execution_count": null,
   "metadata": {},
   "outputs": [],
   "source": [
    "# iterate through months and tally up the number of engagments by "
   ]
  }
 ],
 "metadata": {
  "kernelspec": {
   "display_name": "Python 3",
   "language": "python",
   "name": "python3"
  },
  "language_info": {
   "codemirror_mode": {
    "name": "ipython",
    "version": 3
   },
   "file_extension": ".py",
   "mimetype": "text/x-python",
   "name": "python",
   "nbconvert_exporter": "python",
   "pygments_lexer": "ipython3",
   "version": "3.7.3"
  }
 },
 "nbformat": 4,
 "nbformat_minor": 4
}
