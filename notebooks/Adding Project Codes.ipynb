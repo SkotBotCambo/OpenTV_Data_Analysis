{
 "cells": [
  {
   "cell_type": "code",
   "execution_count": 1,
   "metadata": {},
   "outputs": [],
   "source": [
    "import pandas as pd\n",
    "import re\n",
    "from tqdm.notebook import tqdm\n",
    "import os\n",
    "from datetime import datetime, timedelta, date\n",
    "import numpy as np"
   ]
  },
  {
   "cell_type": "markdown",
   "metadata": {},
   "source": [
    "### Load Project Codes csv\n",
    "Download the Project Codes spreadsheet on google as a `.csv` file and save it to the parent directory of this notebook"
   ]
  },
  {
   "cell_type": "code",
   "execution_count": 97,
   "metadata": {},
   "outputs": [
    {
     "data": {
      "text/html": [
       "<div>\n",
       "<style scoped>\n",
       "    .dataframe tbody tr th:only-of-type {\n",
       "        vertical-align: middle;\n",
       "    }\n",
       "\n",
       "    .dataframe tbody tr th {\n",
       "        vertical-align: top;\n",
       "    }\n",
       "\n",
       "    .dataframe thead th {\n",
       "        text-align: right;\n",
       "    }\n",
       "</style>\n",
       "<table border=\"1\" class=\"dataframe\">\n",
       "  <thead>\n",
       "    <tr style=\"text-align: right;\">\n",
       "      <th></th>\n",
       "      <th>Project Code</th>\n",
       "      <th>Formal Name</th>\n",
       "    </tr>\n",
       "  </thead>\n",
       "  <tbody>\n",
       "    <tr>\n",
       "      <th>0</th>\n",
       "      <td>ANO</td>\n",
       "      <td>Kiam Marcelo Junio</td>\n",
       "    </tr>\n",
       "    <tr>\n",
       "      <th>1</th>\n",
       "      <td>AP</td>\n",
       "      <td>The Algebra Project</td>\n",
       "    </tr>\n",
       "    <tr>\n",
       "      <th>2</th>\n",
       "      <td>AS</td>\n",
       "      <td>Afternoon Snatch</td>\n",
       "    </tr>\n",
       "    <tr>\n",
       "      <th>3</th>\n",
       "      <td>AV</td>\n",
       "      <td>Ambivert</td>\n",
       "    </tr>\n",
       "    <tr>\n",
       "      <th>4</th>\n",
       "      <td>B</td>\n",
       "      <td>BRUJOS</td>\n",
       "    </tr>\n",
       "  </tbody>\n",
       "</table>\n",
       "</div>"
      ],
      "text/plain": [
       "  Project Code          Formal Name\n",
       "0          ANO   Kiam Marcelo Junio\n",
       "1           AP  The Algebra Project\n",
       "2           AS     Afternoon Snatch\n",
       "3           AV             Ambivert\n",
       "4            B               BRUJOS"
      ]
     },
     "execution_count": 97,
     "metadata": {},
     "output_type": "execute_result"
    }
   ],
   "source": [
    "proj_codes_df = pd.read_csv('../project_codes.csv')\n",
    "proj_codes_df = proj_codes_df.drop(columns=['name'])\n",
    "proj_codes_df.head()"
   ]
  },
  {
   "cell_type": "code",
   "execution_count": 120,
   "metadata": {},
   "outputs": [],
   "source": [
    "proj_codes_df.index=proj_codes_df['Project Code'] # sets the index as the project code"
   ]
  },
  {
   "cell_type": "markdown",
   "metadata": {},
   "source": [
    "# Load the data we'll use for testing"
   ]
  },
  {
   "cell_type": "code",
   "execution_count": 121,
   "metadata": {},
   "outputs": [],
   "source": [
    "def clean_df(df):\n",
    "    df['project_id'] = df['Project ID'].fillna(df['Project Code'])\n",
    "    df['project_id'] = df['project_id'].fillna(df['Unnamed: 0'])\n",
    "    return df"
   ]
  },
  {
   "cell_type": "code",
   "execution_count": 122,
   "metadata": {},
   "outputs": [],
   "source": [
    "def get_window_datetimes(file_name):\n",
    "    file_name = file_name.replace(\"-\", \"_\")\n",
    "    re_string = r'\\((.*?)\\)' # regex string for finding window start and end dates\n",
    "\n",
    "    match = re.findall(re_string, file_name)\n",
    "    start = match[0].split(\"_\")\n",
    "    start_month = int(start[0])\n",
    "    start_day = int(start[1])\n",
    "    start_year = int(start[2])\n",
    "    start_dt = datetime(month=start_month, day=start_day, year=start_year)\n",
    "    \n",
    "    end = match[1].split(\"_\")\n",
    "    end_month = int(end[0])\n",
    "    end_day = int(end[1])\n",
    "    end_year = int(end[2])\n",
    "    end_dt = datetime(month=end_month, day=end_day, year=end_year)\n",
    "    return start_dt, end_dt"
   ]
  },
  {
   "cell_type": "code",
   "execution_count": 123,
   "metadata": {},
   "outputs": [],
   "source": [
    "def daterange(start_date, end_date):\n",
    "    for n in range(int((end_date - start_date).days)):\n",
    "        yield start_date + timedelta(n)"
   ]
  },
  {
   "cell_type": "code",
   "execution_count": 124,
   "metadata": {},
   "outputs": [],
   "source": [
    "# define locations of the files we want to use\n",
    "data_dir = '../data/Spreadsheets_2019/'\n",
    "time_window_dirs = os.listdir(data_dir) # << a list of the file names in the directory"
   ]
  },
  {
   "cell_type": "code",
   "execution_count": 125,
   "metadata": {},
   "outputs": [],
   "source": [
    "vimeo_device_dfs = []\n",
    "vimeo_region_dfs = []\n",
    "vimeo_video_dfs = []\n",
    "vimeo_date_dfs = []\n",
    "vimeo_source_dfs = []\n",
    "\n",
    "for window_dir in time_window_dirs:\n",
    "    file_names = os.listdir(data_dir+window_dir)\n",
    "    for file_name in file_names:\n",
    "        start_dt, end_dt = get_window_datetimes(file_name)\n",
    "        if 'Vimeo_Device' in file_name:\n",
    "            vimeo_device_df = pd.read_csv(data_dir+window_dir+\"/\"+file_name)\n",
    "            vimeo_device_df['start'] = start_dt\n",
    "            vimeo_device_df['end'] = end_dt\n",
    "            vimeo_device_dfs.append(vimeo_device_df)\n",
    "        if 'Vimeo_Region' in file_name:\n",
    "            vimeo_region_df = pd.read_csv(data_dir+window_dir+\"/\"+file_name)\n",
    "            vimeo_region_df['start'] = start_dt\n",
    "            vimeo_region_df['end'] = end_dt\n",
    "            vimeo_region_dfs.append(vimeo_region_df)\n",
    "        if 'Vimeo_Video' in file_name:\n",
    "            video_df = pd.read_csv(data_dir+window_dir+\"/\"+file_name)\n",
    "            video_df.columns = ['Project ID'] + video_df.columns[1:].to_list() # make the project id column name consistent\n",
    "            video_df.plays = video_df.plays.replace('\\r\\n', np.nan)\n",
    "            video_df = video_df[~video_df.isnull().all(axis=1)] # remove all completely null rows\n",
    "            video_df['start'] = start_dt\n",
    "            video_df['end'] = end_dt\n",
    "            vimeo_video_dfs.append(video_df)\n",
    "        if 'Vimeo_Date' in file_name:\n",
    "            vimeo_date_df=pd.read_csv(data_dir+window_dir+\"/\"+file_name)\n",
    "            vimeo_date_df['start'] = start_dt\n",
    "            vimeo_date_df['end'] = end_dt\n",
    "            vimeo_date_dfs.append(vimeo_date_df)\n",
    "        if 'Vimeo_Source' in file_name:\n",
    "            vimeo_source_df = pd.read_csv(data_dir+window_dir+\"/\"+file_name)\n",
    "            vimeo_source_df['start'] = start_dt\n",
    "            vimeo_source_df['end'] = end_dt\n",
    "            vimeo_source_dfs.append(pd.read_csv(data_dir+window_dir+\"/\"+file_name))\n",
    "            \n",
    "vimeo_device_df = pd.concat(vimeo_device_dfs, axis=0, sort=False)\n",
    "vimeo_region_df = pd.concat(vimeo_region_dfs, axis=0, sort=False)\n",
    "vimeo_video_df = pd.concat(vimeo_video_dfs, axis=0, sort=False)\n",
    "vimeo_date_df = pd.concat(vimeo_date_dfs, axis=0, sort=False)\n",
    "vimeo_source_df = pd.concat(vimeo_source_dfs, axis=0, sort=False)"
   ]
  },
  {
   "cell_type": "code",
   "execution_count": 126,
   "metadata": {},
   "outputs": [
    {
     "data": {
      "text/html": [
       "<div>\n",
       "<style scoped>\n",
       "    .dataframe tbody tr th:only-of-type {\n",
       "        vertical-align: middle;\n",
       "    }\n",
       "\n",
       "    .dataframe tbody tr th {\n",
       "        vertical-align: top;\n",
       "    }\n",
       "\n",
       "    .dataframe thead th {\n",
       "        text-align: right;\n",
       "    }\n",
       "</style>\n",
       "<table border=\"1\" class=\"dataframe\">\n",
       "  <thead>\n",
       "    <tr style=\"text-align: right;\">\n",
       "      <th></th>\n",
       "      <th>Project ID</th>\n",
       "      <th>plays</th>\n",
       "      <th>downloads</th>\n",
       "      <th>loads</th>\n",
       "      <th>finishes</th>\n",
       "      <th>likes</th>\n",
       "      <th>comments</th>\n",
       "      <th>uri</th>\n",
       "      <th>name</th>\n",
       "      <th>duration</th>\n",
       "      <th>created_time</th>\n",
       "      <th>sizes</th>\n",
       "      <th>unique_loads</th>\n",
       "      <th>mean_percent</th>\n",
       "      <th>mean_seconds</th>\n",
       "      <th>sum_seconds</th>\n",
       "      <th>total_seconds</th>\n",
       "      <th>unique_viewers</th>\n",
       "      <th>start</th>\n",
       "      <th>end</th>\n",
       "    </tr>\n",
       "  </thead>\n",
       "  <tbody>\n",
       "    <tr>\n",
       "      <th>0</th>\n",
       "      <td>BG</td>\n",
       "      <td>942</td>\n",
       "      <td>0.0</td>\n",
       "      <td>39932.0</td>\n",
       "      <td>109.0</td>\n",
       "      <td>1.0</td>\n",
       "      <td>0.0</td>\n",
       "      <td>/videos/189724238</td>\n",
       "      <td>Brown Girls -- Trailer</td>\n",
       "      <td>141.0</td>\n",
       "      <td>2016-11-01T01:03:06+00:00</td>\n",
       "      <td>Array</td>\n",
       "      <td>15724.0</td>\n",
       "      <td>60.0</td>\n",
       "      <td>41.0</td>\n",
       "      <td>39270.0</td>\n",
       "      <td>133678.0</td>\n",
       "      <td>540.0</td>\n",
       "      <td>2019-11-13</td>\n",
       "      <td>2019-12-10</td>\n",
       "    </tr>\n",
       "    <tr>\n",
       "      <th>1</th>\n",
       "      <td>BG</td>\n",
       "      <td>562</td>\n",
       "      <td>0.0</td>\n",
       "      <td>2399.0</td>\n",
       "      <td>110.0</td>\n",
       "      <td>1.0</td>\n",
       "      <td>1.0</td>\n",
       "      <td>/videos/203924325</td>\n",
       "      <td>Brown Girls -- Episode 1</td>\n",
       "      <td>410.0</td>\n",
       "      <td>2017-02-14T00:43:46+00:00</td>\n",
       "      <td>Array</td>\n",
       "      <td>1002.0</td>\n",
       "      <td>71.0</td>\n",
       "      <td>250.0</td>\n",
       "      <td>141000.0</td>\n",
       "      <td>230952.0</td>\n",
       "      <td>370.0</td>\n",
       "      <td>2019-11-13</td>\n",
       "      <td>2019-12-10</td>\n",
       "    </tr>\n",
       "    <tr>\n",
       "      <th>2</th>\n",
       "      <td>SFP</td>\n",
       "      <td>493</td>\n",
       "      <td>0.0</td>\n",
       "      <td>1150.0</td>\n",
       "      <td>21.0</td>\n",
       "      <td>1.0</td>\n",
       "      <td>0.0</td>\n",
       "      <td>/videos/143933380</td>\n",
       "      <td>Open TV Presents: Southern for Pussy</td>\n",
       "      <td>283.0</td>\n",
       "      <td>2015-10-28T22:38:55+00:00</td>\n",
       "      <td>Array</td>\n",
       "      <td>497.0</td>\n",
       "      <td>36.0</td>\n",
       "      <td>69.0</td>\n",
       "      <td>34114.0</td>\n",
       "      <td>139744.0</td>\n",
       "      <td>314.0</td>\n",
       "      <td>2019-11-13</td>\n",
       "      <td>2019-12-10</td>\n",
       "    </tr>\n",
       "    <tr>\n",
       "      <th>3</th>\n",
       "      <td>TRS</td>\n",
       "      <td>378</td>\n",
       "      <td>0.0</td>\n",
       "      <td>776.0</td>\n",
       "      <td>32.0</td>\n",
       "      <td>1.0</td>\n",
       "      <td>0.0</td>\n",
       "      <td>/videos/375475586</td>\n",
       "      <td>The Right Swipe - Episode 2</td>\n",
       "      <td>867.0</td>\n",
       "      <td>2019-11-25T18:26:55+00:00</td>\n",
       "      <td>Array</td>\n",
       "      <td>398.0</td>\n",
       "      <td>61.0</td>\n",
       "      <td>469.0</td>\n",
       "      <td>177449.0</td>\n",
       "      <td>328084.0</td>\n",
       "      <td>244.0</td>\n",
       "      <td>2019-11-13</td>\n",
       "      <td>2019-12-10</td>\n",
       "    </tr>\n",
       "    <tr>\n",
       "      <th>4</th>\n",
       "      <td>BG</td>\n",
       "      <td>243</td>\n",
       "      <td>0.0</td>\n",
       "      <td>587.0</td>\n",
       "      <td>70.0</td>\n",
       "      <td>1.0</td>\n",
       "      <td>0.0</td>\n",
       "      <td>/videos/204010747</td>\n",
       "      <td>Brown Girls -- Episode 2</td>\n",
       "      <td>874.0</td>\n",
       "      <td>2017-02-14T14:31:09+00:00</td>\n",
       "      <td>Array</td>\n",
       "      <td>276.0</td>\n",
       "      <td>75.0</td>\n",
       "      <td>599.0</td>\n",
       "      <td>145659.0</td>\n",
       "      <td>212609.0</td>\n",
       "      <td>171.0</td>\n",
       "      <td>2019-11-13</td>\n",
       "      <td>2019-12-10</td>\n",
       "    </tr>\n",
       "  </tbody>\n",
       "</table>\n",
       "</div>"
      ],
      "text/plain": [
       "  Project ID plays  downloads    loads  finishes  likes  comments  \\\n",
       "0         BG   942        0.0  39932.0     109.0    1.0       0.0   \n",
       "1         BG   562        0.0   2399.0     110.0    1.0       1.0   \n",
       "2        SFP   493        0.0   1150.0      21.0    1.0       0.0   \n",
       "3        TRS   378        0.0    776.0      32.0    1.0       0.0   \n",
       "4         BG   243        0.0    587.0      70.0    1.0       0.0   \n",
       "\n",
       "                 uri                                  name  duration  \\\n",
       "0  /videos/189724238                Brown Girls -- Trailer     141.0   \n",
       "1  /videos/203924325              Brown Girls -- Episode 1     410.0   \n",
       "2  /videos/143933380  Open TV Presents: Southern for Pussy     283.0   \n",
       "3  /videos/375475586           The Right Swipe - Episode 2     867.0   \n",
       "4  /videos/204010747              Brown Girls -- Episode 2     874.0   \n",
       "\n",
       "                created_time  sizes  unique_loads  mean_percent  mean_seconds  \\\n",
       "0  2016-11-01T01:03:06+00:00  Array       15724.0          60.0          41.0   \n",
       "1  2017-02-14T00:43:46+00:00  Array        1002.0          71.0         250.0   \n",
       "2  2015-10-28T22:38:55+00:00  Array         497.0          36.0          69.0   \n",
       "3  2019-11-25T18:26:55+00:00  Array         398.0          61.0         469.0   \n",
       "4  2017-02-14T14:31:09+00:00  Array         276.0          75.0         599.0   \n",
       "\n",
       "   sum_seconds  total_seconds  unique_viewers      start        end  \n",
       "0      39270.0       133678.0           540.0 2019-11-13 2019-12-10  \n",
       "1     141000.0       230952.0           370.0 2019-11-13 2019-12-10  \n",
       "2      34114.0       139744.0           314.0 2019-11-13 2019-12-10  \n",
       "3     177449.0       328084.0           244.0 2019-11-13 2019-12-10  \n",
       "4     145659.0       212609.0           171.0 2019-11-13 2019-12-10  "
      ]
     },
     "execution_count": 126,
     "metadata": {},
     "output_type": "execute_result"
    }
   ],
   "source": [
    "vimeo_video_df.head()"
   ]
  },
  {
   "cell_type": "markdown",
   "metadata": {},
   "source": [
    "# Simple Code Estimator\n",
    "So far this seems to be working best even though it is the most simple"
   ]
  },
  {
   "cell_type": "code",
   "execution_count": 11,
   "metadata": {},
   "outputs": [],
   "source": [
    "def estimate_proj_code(video_name):\n",
    "    potential_codes = []\n",
    "    for ind, row in proj_codes_df.iterrows():\n",
    "        code, proj = row['Project Code'], row['Formal Name']\n",
    "        if proj.lower() in video_name.lower():\n",
    "            potential_codes.append(code)\n",
    "    return potential_codes"
   ]
  },
  {
   "cell_type": "code",
   "execution_count": 12,
   "metadata": {},
   "outputs": [],
   "source": [
    "estimated_codes = vimeo_video_df['name'].apply(estimate_proj_code)"
   ]
  },
  {
   "cell_type": "code",
   "execution_count": 129,
   "metadata": {},
   "outputs": [
    {
     "name": "stdout",
     "output_type": "stream",
     "text": [
      "Estimated 1017 codes out of 3019\n"
     ]
    }
   ],
   "source": [
    "x = len(estimated_codes) - np.sum(len([1 for i in estimated_codes if len(i) > 0]))\n",
    "print(\"Estimated %s codes out of %s\" % (x, len(vimeo_video_df)))"
   ]
  },
  {
   "cell_type": "code",
   "execution_count": 130,
   "metadata": {},
   "outputs": [],
   "source": [
    "# TODO: Need to have a consistent way of double checking these against the project codes in the dataframe"
   ]
  },
  {
   "cell_type": "markdown",
   "metadata": {},
   "source": [
    "# [Spacy PhraseMatcher](https://spacy.io/api/phrasematcher)\n",
    "[Install Spacy](https://spacy.io/usage)"
   ]
  },
  {
   "cell_type": "code",
   "execution_count": 89,
   "metadata": {},
   "outputs": [],
   "source": [
    "import spacy\n",
    "nlp = spacy.load('en_core_web_sm')\n",
    "from spacy.matcher import PhraseMatcher\n",
    "phrase_matcher = PhraseMatcher(nlp.vocab)"
   ]
  },
  {
   "cell_type": "code",
   "execution_count": 102,
   "metadata": {},
   "outputs": [],
   "source": [
    "# convert all the video titles to spacy objects\n",
    "video_titles = [nlp(name.lower()) for name in vimeo_video_df['name']]"
   ]
  },
  {
   "cell_type": "code",
   "execution_count": 103,
   "metadata": {},
   "outputs": [],
   "source": [
    "# get the matches for all video titles\n",
    "match_ids = [phrase_matcher(vt) for vt in video_titles]"
   ]
  },
  {
   "cell_type": "code",
   "execution_count": 131,
   "metadata": {},
   "outputs": [],
   "source": [
    "# convert the match string_ids to their code strings and cast to pandas series\n",
    "codes = pd.Series([nlp.vocab.strings[match_id[0][0]] if len(match_id) > 0 else None for match_id in match_ids])"
   ]
  },
  {
   "cell_type": "code",
   "execution_count": 132,
   "metadata": {},
   "outputs": [
    {
     "data": {
      "text/plain": [
       "'SFP'"
      ]
     },
     "execution_count": 132,
     "metadata": {},
     "output_type": "execute_result"
    }
   ],
   "source": [
    "vimeo_video_df.iloc[2]['Project ID'] # NOTE: this is an example of a code that is bad, we'll need to figure out the best way to fix it"
   ]
  },
  {
   "cell_type": "code",
   "execution_count": 133,
   "metadata": {},
   "outputs": [
    {
     "name": "stdout",
     "output_type": "stream",
     "text": [
      "Successfully matched 285 codes\n"
     ]
    }
   ],
   "source": [
    "matches = []\n",
    "for ind, row in vimeo_video_df.iterrows():\n",
    "    if codes[ind] == row['Project ID']:\n",
    "        matches.append(True)\n",
    "    else:\n",
    "        matches.append(False)\n",
    "print(\"Successfully matched %s codes\" % np.sum(matches))"
   ]
  },
  {
   "cell_type": "markdown",
   "metadata": {},
   "source": [
    "### TODO: we need to do an error analysis of why this number of matches is so bad when the matching should be an easy problem"
   ]
  },
  {
   "cell_type": "code",
   "execution_count": null,
   "metadata": {},
   "outputs": [],
   "source": []
  }
 ],
 "metadata": {
  "kernelspec": {
   "display_name": "Python 3",
   "language": "python",
   "name": "python3"
  },
  "language_info": {
   "codemirror_mode": {
    "name": "ipython",
    "version": 3
   },
   "file_extension": ".py",
   "mimetype": "text/x-python",
   "name": "python",
   "nbconvert_exporter": "python",
   "pygments_lexer": "ipython3",
   "version": "3.7.3"
  }
 },
 "nbformat": 4,
 "nbformat_minor": 4
}
